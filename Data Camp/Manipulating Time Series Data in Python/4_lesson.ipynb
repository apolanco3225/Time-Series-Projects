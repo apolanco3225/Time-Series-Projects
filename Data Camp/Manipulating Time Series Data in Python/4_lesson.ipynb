{
 "cells": [
  {
   "cell_type": "code",
   "execution_count": 1,
   "metadata": {},
   "outputs": [
    {
     "name": "stdout",
     "output_type": "stream",
     "text": [
      "360\n"
     ]
    },
    {
     "name": "stderr",
     "output_type": "stream",
     "text": [
      "/Users/arturopolancolozano/opt/anaconda3/lib/python3.9/site-packages/openpyxl/worksheet/_read_only.py:79: UserWarning: Unknown extension is not supported and will be removed\n",
      "  for idx, row in parser.parse():\n"
     ]
    },
    {
     "data": {
      "text/html": [
       "<div>\n",
       "<style scoped>\n",
       "    .dataframe tbody tr th:only-of-type {\n",
       "        vertical-align: middle;\n",
       "    }\n",
       "\n",
       "    .dataframe tbody tr th {\n",
       "        vertical-align: top;\n",
       "    }\n",
       "\n",
       "    .dataframe thead th {\n",
       "        text-align: right;\n",
       "    }\n",
       "</style>\n",
       "<table border=\"1\" class=\"dataframe\">\n",
       "  <thead>\n",
       "    <tr style=\"text-align: right;\">\n",
       "      <th></th>\n",
       "      <th>Stock Symbol</th>\n",
       "      <th>Company Name</th>\n",
       "      <th>Last Sale</th>\n",
       "      <th>Market Capitalization</th>\n",
       "      <th>IPO Year</th>\n",
       "      <th>Sector</th>\n",
       "      <th>Industry</th>\n",
       "    </tr>\n",
       "  </thead>\n",
       "  <tbody>\n",
       "    <tr>\n",
       "      <th>0</th>\n",
       "      <td>XXII</td>\n",
       "      <td>22nd Century Group, Inc</td>\n",
       "      <td>1.3300</td>\n",
       "      <td>1.206285e+08</td>\n",
       "      <td>NaN</td>\n",
       "      <td>Consumer Non-Durables</td>\n",
       "      <td>Farming/Seeds/Milling</td>\n",
       "    </tr>\n",
       "    <tr>\n",
       "      <th>1</th>\n",
       "      <td>FAX</td>\n",
       "      <td>Aberdeen Asia-Pacific Income Fund Inc</td>\n",
       "      <td>5.0000</td>\n",
       "      <td>1.266333e+09</td>\n",
       "      <td>1986.0</td>\n",
       "      <td>NaN</td>\n",
       "      <td>NaN</td>\n",
       "    </tr>\n",
       "    <tr>\n",
       "      <th>2</th>\n",
       "      <td>IAF</td>\n",
       "      <td>Aberdeen Australia Equity Fund Inc</td>\n",
       "      <td>6.1500</td>\n",
       "      <td>1.398653e+08</td>\n",
       "      <td>NaN</td>\n",
       "      <td>NaN</td>\n",
       "      <td>NaN</td>\n",
       "    </tr>\n",
       "    <tr>\n",
       "      <th>3</th>\n",
       "      <td>CH</td>\n",
       "      <td>Aberdeen Chile Fund, Inc.</td>\n",
       "      <td>7.2201</td>\n",
       "      <td>6.756346e+07</td>\n",
       "      <td>NaN</td>\n",
       "      <td>NaN</td>\n",
       "      <td>NaN</td>\n",
       "    </tr>\n",
       "    <tr>\n",
       "      <th>4</th>\n",
       "      <td>ABE</td>\n",
       "      <td>Aberdeen Emerging Markets Smaller Company Oppo...</td>\n",
       "      <td>13.3600</td>\n",
       "      <td>1.288430e+08</td>\n",
       "      <td>NaN</td>\n",
       "      <td>NaN</td>\n",
       "      <td>NaN</td>\n",
       "    </tr>\n",
       "  </tbody>\n",
       "</table>\n",
       "</div>"
      ],
      "text/plain": [
       "     Stock Symbol                                       Company Name  \\\n",
       "0            XXII                            22nd Century Group, Inc   \n",
       "1             FAX              Aberdeen Asia-Pacific Income Fund Inc   \n",
       "2             IAF                 Aberdeen Australia Equity Fund Inc   \n",
       "3              CH                          Aberdeen Chile Fund, Inc.   \n",
       "4  ABE             Aberdeen Emerging Markets Smaller Company Oppo...   \n",
       "\n",
       "   Last Sale  Market Capitalization  IPO Year                 Sector  \\\n",
       "0     1.3300           1.206285e+08       NaN  Consumer Non-Durables   \n",
       "1     5.0000           1.266333e+09    1986.0                    NaN   \n",
       "2     6.1500           1.398653e+08       NaN                    NaN   \n",
       "3     7.2201           6.756346e+07       NaN                    NaN   \n",
       "4    13.3600           1.288430e+08       NaN                    NaN   \n",
       "\n",
       "                Industry  \n",
       "0  Farming/Seeds/Milling  \n",
       "1                    NaN  \n",
       "2                    NaN  \n",
       "3                    NaN  \n",
       "4                    NaN  "
      ]
     },
     "execution_count": 1,
     "metadata": {},
     "output_type": "execute_result"
    }
   ],
   "source": [
    "import os\n",
    "import pandas as pd\n",
    "import matplotlib.pyplot as plt\n",
    "\n",
    "\n",
    "stock_path = \"data/stock_data\"\n",
    "\n",
    "listings = pd.read_excel(\n",
    "    os.path.join(stock_path, \"listings.xlsx\"),\n",
    ")\n",
    "\n",
    "print(len(listings))\n",
    "\n",
    "listings.head()"
   ]
  },
  {
   "cell_type": "code",
   "execution_count": 2,
   "metadata": {},
   "outputs": [
    {
     "data": {
      "text/plain": [
       "Health Care              49\n",
       "Basic Industries         44\n",
       "Energy                   28\n",
       "Consumer Services        27\n",
       "Capital Goods            24\n",
       "Technology               20\n",
       "Consumer Non-Durables    13\n",
       "Finance                  12\n",
       "Public Utilities         11\n",
       "Miscellaneous             5\n",
       "Consumer Durables         4\n",
       "Transportation            1\n",
       "Name: Sector, dtype: int64"
      ]
     },
     "execution_count": 2,
     "metadata": {},
     "output_type": "execute_result"
    }
   ],
   "source": [
    "listings.Sector.value_counts()"
   ]
  },
  {
   "cell_type": "code",
   "execution_count": 3,
   "metadata": {},
   "outputs": [
    {
     "name": "stdout",
     "output_type": "stream",
     "text": [
      "<class 'pandas.core.frame.DataFrame'>\n",
      "RangeIndex: 360 entries, 0 to 359\n",
      "Data columns (total 7 columns):\n",
      " #   Column                 Non-Null Count  Dtype  \n",
      "---  ------                 --------------  -----  \n",
      " 0   Stock Symbol           360 non-null    object \n",
      " 1   Company Name           360 non-null    object \n",
      " 2   Last Sale              346 non-null    float64\n",
      " 3   Market Capitalization  360 non-null    float64\n",
      " 4   IPO Year               105 non-null    float64\n",
      " 5   Sector                 238 non-null    object \n",
      " 6   Industry               238 non-null    object \n",
      "dtypes: float64(3), object(4)\n",
      "memory usage: 19.8+ KB\n",
      "None\n",
      "<class 'pandas.core.frame.DataFrame'>\n",
      "Index: 45 entries, ACU to ZDGE\n",
      "Data columns (total 6 columns):\n",
      " #   Column                 Non-Null Count  Dtype  \n",
      "---  ------                 --------------  -----  \n",
      " 0   Company Name           45 non-null     object \n",
      " 1   Last Sale              45 non-null     float64\n",
      " 2   Market Capitalization  45 non-null     float64\n",
      " 3   IPO Year               45 non-null     float64\n",
      " 4   Sector                 45 non-null     object \n",
      " 5   Industry               45 non-null     object \n",
      "dtypes: float64(3), object(3)\n",
      "memory usage: 2.5+ KB\n",
      "None\n"
     ]
    }
   ],
   "source": [
    "# Inspect listings\n",
    "print(listings.info())\n",
    "\n",
    "# Move 'stock symbol' into the index\n",
    "listings.set_index('Stock Symbol', inplace=True)\n",
    "\n",
    "# Drop rows with missing 'sector' data\n",
    "listings.dropna(subset=[\"Sector\"], inplace=True)\n",
    "\n",
    "# Select companies with IPO Year before 2019\n",
    "listings = listings[listings['IPO Year'] < 2019]\n",
    "\n",
    "# Inspect the new listings data\n",
    "print(listings.info())\n",
    "\n"
   ]
  },
  {
   "cell_type": "code",
   "execution_count": 4,
   "metadata": {},
   "outputs": [
    {
     "name": "stdout",
     "output_type": "stream",
     "text": [
      "Sector\n",
      "Health Care              11\n",
      "Consumer Services         9\n",
      "Basic Industries          8\n",
      "Capital Goods             5\n",
      "Technology                4\n",
      "Public Utilities          3\n",
      "Energy                    2\n",
      "Consumer Non-Durables     1\n",
      "Finance                   1\n",
      "Miscellaneous             1\n",
      "dtype: int64\n"
     ]
    }
   ],
   "source": [
    "# Show the number of companies per sector\n",
    "print(listings.groupby(\"Sector\").size().sort_values(ascending=False))\n"
   ]
  },
  {
   "cell_type": "code",
   "execution_count": 5,
   "metadata": {},
   "outputs": [
    {
     "name": "stdout",
     "output_type": "stream",
     "text": [
      "Sector                 Stock Symbol\n",
      "Public Utilities       CQP             1.104692e+10\n",
      "Finance                SEB             4.603773e+09\n",
      "Basic Industries       SIM             2.123559e+09\n",
      "Consumer Services      GSAT            1.931551e+09\n",
      "Health Care            CRHM            6.474389e+08\n",
      "Energy                 MPO             4.794015e+08\n",
      "Capital Goods          LBY             3.026988e+08\n",
      "Consumer Non-Durables  ROX             2.376444e+08\n",
      "Technology             MJCO            1.916146e+08\n",
      "Miscellaneous          AUXO            5.913104e+07\n",
      "Name: Market Capitalization, dtype: float64\n",
      "Index(['SIM', 'LBY', 'ROX', 'GSAT', 'MPO', 'SEB', 'CRHM', 'AUXO', 'CQP',\n",
      "       'MJCO'],\n",
      "      dtype='object', name='Stock Symbol')\n",
      "                                   Company Name  Market Capitalization  \\\n",
      "Stock Symbol                                                             \n",
      "CQP                Cheniere Energy Partners, LP           1.104692e+10   \n",
      "SEB                        Seaboard Corporation           4.603773e+09   \n",
      "SIM                   Grupo Simec, S.A. de C.V.           2.123559e+09   \n",
      "GSAT                           Globalstar, Inc.           1.931551e+09   \n",
      "CRHM                    CRH Medical Corporation           6.474389e+08   \n",
      "MPO           MIDSTATES PETROLEUM COMPANY, INC.           4.794015e+08   \n",
      "LBY                                Libbey, Inc.           3.026988e+08   \n",
      "ROX                         Castle Brands, Inc.           2.376444e+08   \n",
      "MJCO                                    Majesco           1.916146e+08   \n",
      "AUXO                              Auxilio, Inc.           5.913104e+07   \n",
      "\n",
      "              Last Sale  \n",
      "Stock Symbol             \n",
      "CQP             32.7000  \n",
      "SEB           3933.0000  \n",
      "SIM             12.8000  \n",
      "GSAT             1.7300  \n",
      "CRHM             8.9000  \n",
      "MPO             19.1800  \n",
      "LBY             13.8200  \n",
      "ROX              1.4600  \n",
      "MJCO             5.2500  \n",
      "AUXO             6.3043  \n"
     ]
    }
   ],
   "source": [
    "# Select largest company for each sector\n",
    "components = listings.groupby(['Sector'])['Market Capitalization'].nlargest(1)\n",
    "\n",
    "# Print components, sorted by market cap\n",
    "print(components.sort_values(ascending=False))\n",
    "\n",
    "# Select stock symbols and print the result\n",
    "tickers = components.index.get_level_values('Stock Symbol')\n",
    "print(tickers)\n",
    "\n",
    "# Print company name, market cap, and last price for each component \n",
    "info_cols = ['Company Name', 'Market Capitalization', 'Last Sale']\n",
    "print(listings.loc[tickers, info_cols].sort_values('Market Capitalization', ascending=False))"
   ]
  },
  {
   "cell_type": "code",
   "execution_count": 6,
   "metadata": {},
   "outputs": [
    {
     "name": "stdout",
     "output_type": "stream",
     "text": [
      "Index(['SIM', 'LBY', 'ROX', 'GSAT', 'MPO', 'SEB', 'CRHM', 'AUXO', 'CQP',\n",
      "       'MJCO'],\n",
      "      dtype='object', name='Stock Symbol')\n",
      "<class 'pandas.core.frame.DataFrame'>\n",
      "DatetimeIndex: 1762 entries, 2010-01-04 to 2016-12-30\n",
      "Data columns (total 12 columns):\n",
      " #   Column  Non-Null Count  Dtype  \n",
      "---  ------  --------------  -----  \n",
      " 0   AAPL    1761 non-null   float64\n",
      " 1   AMGN    1761 non-null   float64\n",
      " 2   AMZN    1761 non-null   float64\n",
      " 3   CPRT    1761 non-null   float64\n",
      " 4   EL      1762 non-null   float64\n",
      " 5   GS      1762 non-null   float64\n",
      " 6   ILMN    1761 non-null   float64\n",
      " 7   MA      1762 non-null   float64\n",
      " 8   PAA     1762 non-null   float64\n",
      " 9   RIO     1762 non-null   float64\n",
      " 10  TEF     1762 non-null   float64\n",
      " 11  UPS     1762 non-null   float64\n",
      "dtypes: float64(12)\n",
      "memory usage: 179.0 KB\n",
      "None\n"
     ]
    }
   ],
   "source": [
    "# Print tickers\n",
    "print(tickers)\n",
    "\n",
    "# Import prices and inspect result\n",
    "stock_prices = pd.read_csv(\n",
    "    os.path.join(stock_path, 'stock_data.csv'),\n",
    "    parse_dates=[\"Date\"],\n",
    "    index_col=\"Date\"\n",
    ")\n",
    "print(stock_prices.info())\n",
    "\n",
    "\n",
    "\n",
    "\n"
   ]
  },
  {
   "cell_type": "code",
   "execution_count": 7,
   "metadata": {},
   "outputs": [
    {
     "data": {
      "image/png": "[encoded data removed]",
      "text/plain": [
       "<Figure size 640x480 with 1 Axes>"
      ]
     },
     "metadata": {},
     "output_type": "display_data"
    }
   ],
   "source": [
    "# Calculate the returns\n",
    "price_return = stock_prices.iloc[-1].div(stock_prices.iloc[0]).sub(1).mul(100)\n",
    "\n",
    "# Plot horizontal bar chart of sorted price_return  \n",
    "price_return.sort_values(ascending=False).plot(title=\"Stock Price Returns\", kind=\"barh\") \n",
    "plt.show()"
   ]
  },
  {
   "cell_type": "code",
   "execution_count": 8,
   "metadata": {},
   "outputs": [
    {
     "name": "stdout",
     "output_type": "stream",
     "text": [
      "<class 'pandas.core.frame.DataFrame'>\n",
      "Index: 45 entries, ACU to ZDGE\n",
      "Data columns (total 6 columns):\n",
      " #   Column                 Non-Null Count  Dtype  \n",
      "---  ------                 --------------  -----  \n",
      " 0   Company Name           45 non-null     object \n",
      " 1   Last Sale              45 non-null     float64\n",
      " 2   Market Capitalization  45 non-null     float64\n",
      " 3   IPO Year               45 non-null     float64\n",
      " 4   Sector                 45 non-null     object \n",
      " 5   Industry               45 non-null     object \n",
      "dtypes: float64(3), object(3)\n",
      "memory usage: 3.5+ KB\n",
      "None\n",
      "Index(['SIM', 'LBY', 'ROX', 'GSAT', 'MPO', 'SEB', 'CRHM', 'AUXO', 'CQP',\n",
      "       'MJCO'],\n",
      "      dtype='object', name='Stock Symbol')\n",
      "              Market Capitalization  Last Sale\n",
      "Stock Symbol                                  \n",
      "SIM                    2.123559e+09      12.80\n",
      "LBY                    3.026988e+08      13.82\n",
      "ROX                    2.376444e+08       1.46\n",
      "GSAT                   1.931551e+09       1.73\n",
      "MPO                    4.794015e+08      19.18\n"
     ]
    }
   ],
   "source": [
    "# Inspect listings and print tickers\n",
    "print(listings.info())\n",
    "print(tickers)\n",
    "\n",
    "# Select components and relevant columns from listings\n",
    "components = listings.loc[tickers][[\"Market Capitalization\", \"Last Sale\"]]\n",
    "\n",
    "# Print the first rows of components\n",
    "print(components.head())\n",
    "\n",
    "# Calculate the number of shares here\n",
    "no_shares = components[\"Market Capitalization\"].div(components[\"Last Sale\"])\n",
    "components[\"Number of Shares\"] = no_shares\n",
    "\n",
    "\n"
   ]
  },
  {
   "cell_type": "code",
   "execution_count": 9,
   "metadata": {},
   "outputs": [
    {
     "name": "stdout",
     "output_type": "stream",
     "text": [
      "Stock Symbol\n",
      "GSAT    1.116503e+09\n",
      "CQP     3.378264e+08\n",
      "SIM     1.659031e+08\n",
      "ROX     1.627702e+08\n",
      "CRHM    7.274594e+07\n",
      "MJCO    3.649803e+07\n",
      "MPO     2.499487e+07\n",
      "LBY     2.190295e+07\n",
      "AUXO    9.379477e+06\n",
      "SEB     1.170550e+06\n",
      "dtype: float64\n"
     ]
    }
   ],
   "source": [
    "# Print the sorted no_shares\n",
    "print(no_shares.sort_values(ascending=False))"
   ]
  },
  {
   "cell_type": "code",
   "execution_count": 13,
   "metadata": {},
   "outputs": [
    {
     "name": "stdout",
     "output_type": "stream",
     "text": [
      "Stock Symbol\n",
      "SEB     1.170550e+06\n",
      "AUXO    9.379477e+06\n",
      "LBY     2.190295e+07\n",
      "MPO     2.499487e+07\n",
      "MJCO    3.649803e+07\n",
      "CRHM    7.274594e+07\n",
      "ROX     1.627702e+08\n",
      "SIM     1.659031e+08\n",
      "CQP     3.378264e+08\n",
      "GSAT    1.116503e+09\n",
      "Name: Number of Shares, dtype: float64\n"
     ]
    }
   ],
   "source": [
    "# Select the number of shares\n",
    "no_shares = components[\"Number of Shares\"]\n",
    "print(no_shares.sort_values())\n",
    "\n"
   ]
  },
  {
   "cell_type": "code",
   "execution_count": 15,
   "metadata": {},
   "outputs": [
    {
     "data": {
      "text/html": [
       "<div>\n",
       "<style scoped>\n",
       "    .dataframe tbody tr th:only-of-type {\n",
       "        vertical-align: middle;\n",
       "    }\n",
       "\n",
       "    .dataframe tbody tr th {\n",
       "        vertical-align: top;\n",
       "    }\n",
       "\n",
       "    .dataframe thead th {\n",
       "        text-align: right;\n",
       "    }\n",
       "</style>\n",
       "<table border=\"1\" class=\"dataframe\">\n",
       "  <thead>\n",
       "    <tr style=\"text-align: right;\">\n",
       "      <th></th>\n",
       "      <th>Market Capitalization</th>\n",
       "      <th>Last Sale</th>\n",
       "      <th>Number of Shares</th>\n",
       "    </tr>\n",
       "    <tr>\n",
       "      <th>Stock Symbol</th>\n",
       "      <th></th>\n",
       "      <th></th>\n",
       "      <th></th>\n",
       "    </tr>\n",
       "  </thead>\n",
       "  <tbody>\n",
       "    <tr>\n",
       "      <th>SIM</th>\n",
       "      <td>2.123559e+09</td>\n",
       "      <td>12.8000</td>\n",
       "      <td>1.659031e+08</td>\n",
       "    </tr>\n",
       "    <tr>\n",
       "      <th>LBY</th>\n",
       "      <td>3.026988e+08</td>\n",
       "      <td>13.8200</td>\n",
       "      <td>2.190295e+07</td>\n",
       "    </tr>\n",
       "    <tr>\n",
       "      <th>ROX</th>\n",
       "      <td>2.376444e+08</td>\n",
       "      <td>1.4600</td>\n",
       "      <td>1.627702e+08</td>\n",
       "    </tr>\n",
       "    <tr>\n",
       "      <th>GSAT</th>\n",
       "      <td>1.931551e+09</td>\n",
       "      <td>1.7300</td>\n",
       "      <td>1.116503e+09</td>\n",
       "    </tr>\n",
       "    <tr>\n",
       "      <th>MPO</th>\n",
       "      <td>4.794015e+08</td>\n",
       "      <td>19.1800</td>\n",
       "      <td>2.499487e+07</td>\n",
       "    </tr>\n",
       "    <tr>\n",
       "      <th>SEB</th>\n",
       "      <td>4.603773e+09</td>\n",
       "      <td>3933.0000</td>\n",
       "      <td>1.170550e+06</td>\n",
       "    </tr>\n",
       "    <tr>\n",
       "      <th>CRHM</th>\n",
       "      <td>6.474389e+08</td>\n",
       "      <td>8.9000</td>\n",
       "      <td>7.274594e+07</td>\n",
       "    </tr>\n",
       "    <tr>\n",
       "      <th>AUXO</th>\n",
       "      <td>5.913104e+07</td>\n",
       "      <td>6.3043</td>\n",
       "      <td>9.379477e+06</td>\n",
       "    </tr>\n",
       "    <tr>\n",
       "      <th>CQP</th>\n",
       "      <td>1.104692e+10</td>\n",
       "      <td>32.7000</td>\n",
       "      <td>3.378264e+08</td>\n",
       "    </tr>\n",
       "    <tr>\n",
       "      <th>MJCO</th>\n",
       "      <td>1.916146e+08</td>\n",
       "      <td>5.2500</td>\n",
       "      <td>3.649803e+07</td>\n",
       "    </tr>\n",
       "  </tbody>\n",
       "</table>\n",
       "</div>"
      ],
      "text/plain": [
       "              Market Capitalization  Last Sale  Number of Shares\n",
       "Stock Symbol                                                    \n",
       "SIM                    2.123559e+09    12.8000      1.659031e+08\n",
       "LBY                    3.026988e+08    13.8200      2.190295e+07\n",
       "ROX                    2.376444e+08     1.4600      1.627702e+08\n",
       "GSAT                   1.931551e+09     1.7300      1.116503e+09\n",
       "MPO                    4.794015e+08    19.1800      2.499487e+07\n",
       "SEB                    4.603773e+09  3933.0000      1.170550e+06\n",
       "CRHM                   6.474389e+08     8.9000      7.274594e+07\n",
       "AUXO                   5.913104e+07     6.3043      9.379477e+06\n",
       "CQP                    1.104692e+10    32.7000      3.378264e+08\n",
       "MJCO                   1.916146e+08     5.2500      3.649803e+07"
      ]
     },
     "execution_count": 15,
     "metadata": {},
     "output_type": "execute_result"
    }
   ],
   "source": [
    "components"
   ]
  },
  {
   "cell_type": "code",
   "execution_count": 17,
   "metadata": {},
   "outputs": [
    {
     "data": {
      "text/plain": [
       "<Axes: ylabel='Stock Symbol'>"
      ]
     },
     "execution_count": 17,
     "metadata": {},
     "output_type": "execute_result"
    },
    {
     "data": {
      "image/png": "[encoded data removed]",
      "text/plain": [
       "<Figure size 640x480 with 1 Axes>"
      ]
     },
     "metadata": {},
     "output_type": "display_data"
    }
   ],
   "source": [
    "components[\"Market Capitalization\"].sort_values().plot(kind=\"barh\")"
   ]
  },
  {
   "cell_type": "code",
   "execution_count": null,
   "metadata": {},
   "outputs": [],
   "source": [
    "# Calculate and print the index return here\n",
    "index_return = ((index.iloc[-1] / index.iloc[0]) - 1) * 100\n",
    "print(index_return)\n",
    "\n",
    "# Select the market capitalization\n",
    "market_cap = components['Market Capitalization']\n",
    "\n",
    "# Calculate the total market cap\n",
    "total_market_cap = market_cap.sum()\n",
    "\n",
    "# Calculate the component weights, and print the result\n",
    "weights = market_cap.div(total_market_cap)\n",
    "print(weights.sort_values())\n",
    "\n",
    "# Calculate and plot the contribution by component\n",
    "weights.mul(index_return).sort_values().plot(kind=\"barh\")\n",
    "plt.show()\n",
    "\n"
   ]
  },
  {
   "cell_type": "code",
   "execution_count": null,
   "metadata": {},
   "outputs": [],
   "source": [
    "# Convert index series to dataframe here\n",
    "data = index.to_frame(name=\"Index\")\n",
    "\n",
    "# Normalize djia series and add as new column to data\n",
    "djia = djia.div(djia.iloc[0]).mul(100)\n",
    "data['DJIA'] = djia\n",
    "\n",
    "# Show total return for both index and djia\n",
    "print(data.iloc[-1].div(data.iloc[0]).sub(1).mul(100))\n",
    "\n",
    "# Plot both series\n",
    "data.plot()\n",
    "plt.show()\n",
    "\n"
   ]
  },
  {
   "cell_type": "code",
   "execution_count": null,
   "metadata": {},
   "outputs": [],
   "source": [
    "# Inspect data\n",
    "print(data.info())\n",
    "print(data.head())\n",
    "\n",
    "# Create multi_period_return function here\n",
    "def multi_period_return(r):\n",
    "    return (np.prod(r + 1) - 1) * 100\n",
    "\n",
    "# Calculate rolling_return_360\n",
    "rolling_return_360 = data.pct_change().rolling('360D').apply(multi_period_return)\n",
    "\n",
    "# Plot rolling_return_360 here\n",
    "rolling_return_360.plot(title='Rolling 360D Return')\n",
    "plt.show()\n"
   ]
  },
  {
   "cell_type": "code",
   "execution_count": null,
   "metadata": {},
   "outputs": [],
   "source": [
    "# Inspect stock_prices here\n",
    "print(stock_prices.info())\n",
    "\n",
    "# Calculate the daily returns\n",
    "returns = stock_prices.pct_change()\n",
    "\n",
    "# Calculate and print the pairwise correlations\n",
    "correlations = returns.corr()\n",
    "print(correlations)\n",
    "\n",
    "# Plot a heatmap of daily return correlations\n",
    "sns.heatmap(correlations, annot=True)\n",
    "plt.title('Daily Return Correlations')\n",
    "plt.show()\n",
    "\n"
   ]
  },
  {
   "cell_type": "code",
   "execution_count": null,
   "metadata": {},
   "outputs": [],
   "source": [
    "# Inspect index and stock_prices\n",
    "print(index.info())\n",
    "print(stock_prices.info())\n",
    "\n",
    "# Join index to stock_prices, and inspect the result\n",
    "data = stock_prices.join(index)\n",
    "print(data.info())\n",
    "\n",
    "# Create index & stock price returns\n",
    "returns = data.pct_change()\n",
    "\n",
    "# Export data and data as returns to excel\n",
    "with pd.ExcelWriter('data.xls') as writer:\n",
    "    data.to_excel(writer, sheet_name='data')\n",
    "    returns.to_excel(writer, sheet_name='returns')\n"
   ]
  },
  {
   "cell_type": "code",
   "execution_count": null,
   "metadata": {},
   "outputs": [],
   "source": []
  }
 ],
 "metadata": {
  "kernelspec": {
   "display_name": "graphml",
   "language": "python",
   "name": "graphml"
  },
  "language_info": {
   "codemirror_mode": {
    "name": "ipython",
    "version": 3
   },
   "file_extension": ".py",
   "mimetype": "text/x-python",
   "name": "python",
   "nbconvert_exporter": "python",
   "pygments_lexer": "ipython3",
   "version": "3.9.12"
  }
 },
 "nbformat": 4,
 "nbformat_minor": 2
}
